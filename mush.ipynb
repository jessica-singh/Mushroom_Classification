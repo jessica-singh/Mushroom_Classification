{
 "cells": [
  {
   "cell_type": "code",
   "execution_count": 1,
   "metadata": {},
   "outputs": [],
   "source": [
    "import numpy as np\n",
    "import pandas as pd"
   ]
  },
  {
   "cell_type": "code",
   "execution_count": 8,
   "metadata": {},
   "outputs": [],
   "source": [
    "import zipfile\n",
    "import os\n",
    "\n",
    "# Path to the ZIP file and extraction directory\n",
    "zip_path = r\"C:\\Users\\jessi\\OneDrive\\Desktop\\ds\\mushroom\\test.zip\"\n",
    "extract_path = r\"C:\\Users\\jessi\\OneDrive\\Desktop\\ds\\mushroom\\path\"\n",
    "# Use environment variables or placeholders for paths\n",
    "# zip_path = os.getenv('ZIP_PATH', 'path/to/your/default/test.zip')\n",
    "# extract_path = os.getenv('EXTRACT_PATH', 'path/to/your/default/extract/folder')\n",
    "\n",
    "# Create the extraction directory if it does not exist\n",
    "if not os.path.exists(extract_path):\n",
    "    os.makedirs(extract_path)\n",
    "\n",
    "# Extract the ZIP file\n",
    "with zipfile.ZipFile(zip_path, 'r') as zip_ref:\n",
    "    zip_ref.extractall(extract_path)\n"
   ]
  },
  {
   "cell_type": "code",
   "execution_count": 9,
   "metadata": {},
   "outputs": [],
   "source": [
    "import pandas as pd\n",
    "\n",
    "# Path to the extracted files\n",
    "train_csv_path = os.path.join(extract_path, 'train.csv')\n",
    "test_csv_path = os.path.join(extract_path, 'test.csv')\n",
    "\n",
    "# Load the CSV files into pandas DataFrames\n",
    "df = pd.read_csv(train_csv_path, index_col='id')\n",
    "df_test = pd.read_csv(test_csv_path)\n"
   ]
  },
  {
   "cell_type": "markdown",
   "metadata": {},
   "source": [
    "# EDA(Explanatory Data Analysis)"
   ]
  },
  {
   "cell_type": "code",
   "execution_count": 12,
   "metadata": {},
   "outputs": [
    {
     "data": {
      "text/html": [
       "<div>\n",
       "<style scoped>\n",
       "    .dataframe tbody tr th:only-of-type {\n",
       "        vertical-align: middle;\n",
       "    }\n",
       "\n",
       "    .dataframe tbody tr th {\n",
       "        vertical-align: top;\n",
       "    }\n",
       "\n",
       "    .dataframe thead th {\n",
       "        text-align: right;\n",
       "    }\n",
       "</style>\n",
       "<table border=\"1\" class=\"dataframe\">\n",
       "  <thead>\n",
       "    <tr style=\"text-align: right;\">\n",
       "      <th></th>\n",
       "      <th>class</th>\n",
       "      <th>cap-diameter</th>\n",
       "      <th>cap-shape</th>\n",
       "      <th>cap-surface</th>\n",
       "      <th>cap-color</th>\n",
       "      <th>does-bruise-or-bleed</th>\n",
       "      <th>gill-attachment</th>\n",
       "      <th>gill-spacing</th>\n",
       "      <th>gill-color</th>\n",
       "      <th>stem-height</th>\n",
       "      <th>...</th>\n",
       "      <th>stem-root</th>\n",
       "      <th>stem-surface</th>\n",
       "      <th>stem-color</th>\n",
       "      <th>veil-type</th>\n",
       "      <th>veil-color</th>\n",
       "      <th>has-ring</th>\n",
       "      <th>ring-type</th>\n",
       "      <th>spore-print-color</th>\n",
       "      <th>habitat</th>\n",
       "      <th>season</th>\n",
       "    </tr>\n",
       "    <tr>\n",
       "      <th>id</th>\n",
       "      <th></th>\n",
       "      <th></th>\n",
       "      <th></th>\n",
       "      <th></th>\n",
       "      <th></th>\n",
       "      <th></th>\n",
       "      <th></th>\n",
       "      <th></th>\n",
       "      <th></th>\n",
       "      <th></th>\n",
       "      <th></th>\n",
       "      <th></th>\n",
       "      <th></th>\n",
       "      <th></th>\n",
       "      <th></th>\n",
       "      <th></th>\n",
       "      <th></th>\n",
       "      <th></th>\n",
       "      <th></th>\n",
       "      <th></th>\n",
       "      <th></th>\n",
       "    </tr>\n",
       "  </thead>\n",
       "  <tbody>\n",
       "    <tr>\n",
       "      <th>0</th>\n",
       "      <td>e</td>\n",
       "      <td>8.80</td>\n",
       "      <td>f</td>\n",
       "      <td>s</td>\n",
       "      <td>u</td>\n",
       "      <td>f</td>\n",
       "      <td>a</td>\n",
       "      <td>c</td>\n",
       "      <td>w</td>\n",
       "      <td>4.51</td>\n",
       "      <td>...</td>\n",
       "      <td>NaN</td>\n",
       "      <td>NaN</td>\n",
       "      <td>w</td>\n",
       "      <td>NaN</td>\n",
       "      <td>NaN</td>\n",
       "      <td>f</td>\n",
       "      <td>f</td>\n",
       "      <td>NaN</td>\n",
       "      <td>d</td>\n",
       "      <td>a</td>\n",
       "    </tr>\n",
       "    <tr>\n",
       "      <th>1</th>\n",
       "      <td>p</td>\n",
       "      <td>4.51</td>\n",
       "      <td>x</td>\n",
       "      <td>h</td>\n",
       "      <td>o</td>\n",
       "      <td>f</td>\n",
       "      <td>a</td>\n",
       "      <td>c</td>\n",
       "      <td>n</td>\n",
       "      <td>4.79</td>\n",
       "      <td>...</td>\n",
       "      <td>NaN</td>\n",
       "      <td>y</td>\n",
       "      <td>o</td>\n",
       "      <td>NaN</td>\n",
       "      <td>NaN</td>\n",
       "      <td>t</td>\n",
       "      <td>z</td>\n",
       "      <td>NaN</td>\n",
       "      <td>d</td>\n",
       "      <td>w</td>\n",
       "    </tr>\n",
       "    <tr>\n",
       "      <th>2</th>\n",
       "      <td>e</td>\n",
       "      <td>6.94</td>\n",
       "      <td>f</td>\n",
       "      <td>s</td>\n",
       "      <td>b</td>\n",
       "      <td>f</td>\n",
       "      <td>x</td>\n",
       "      <td>c</td>\n",
       "      <td>w</td>\n",
       "      <td>6.85</td>\n",
       "      <td>...</td>\n",
       "      <td>NaN</td>\n",
       "      <td>s</td>\n",
       "      <td>n</td>\n",
       "      <td>NaN</td>\n",
       "      <td>NaN</td>\n",
       "      <td>f</td>\n",
       "      <td>f</td>\n",
       "      <td>NaN</td>\n",
       "      <td>l</td>\n",
       "      <td>w</td>\n",
       "    </tr>\n",
       "    <tr>\n",
       "      <th>3</th>\n",
       "      <td>e</td>\n",
       "      <td>3.88</td>\n",
       "      <td>f</td>\n",
       "      <td>y</td>\n",
       "      <td>g</td>\n",
       "      <td>f</td>\n",
       "      <td>s</td>\n",
       "      <td>NaN</td>\n",
       "      <td>g</td>\n",
       "      <td>4.16</td>\n",
       "      <td>...</td>\n",
       "      <td>NaN</td>\n",
       "      <td>NaN</td>\n",
       "      <td>w</td>\n",
       "      <td>NaN</td>\n",
       "      <td>NaN</td>\n",
       "      <td>f</td>\n",
       "      <td>f</td>\n",
       "      <td>NaN</td>\n",
       "      <td>d</td>\n",
       "      <td>u</td>\n",
       "    </tr>\n",
       "    <tr>\n",
       "      <th>4</th>\n",
       "      <td>e</td>\n",
       "      <td>5.85</td>\n",
       "      <td>x</td>\n",
       "      <td>l</td>\n",
       "      <td>w</td>\n",
       "      <td>f</td>\n",
       "      <td>d</td>\n",
       "      <td>NaN</td>\n",
       "      <td>w</td>\n",
       "      <td>3.37</td>\n",
       "      <td>...</td>\n",
       "      <td>NaN</td>\n",
       "      <td>NaN</td>\n",
       "      <td>w</td>\n",
       "      <td>NaN</td>\n",
       "      <td>NaN</td>\n",
       "      <td>f</td>\n",
       "      <td>f</td>\n",
       "      <td>NaN</td>\n",
       "      <td>g</td>\n",
       "      <td>a</td>\n",
       "    </tr>\n",
       "  </tbody>\n",
       "</table>\n",
       "<p>5 rows × 21 columns</p>\n",
       "</div>"
      ],
      "text/plain": [
       "   class  cap-diameter cap-shape cap-surface cap-color does-bruise-or-bleed  \\\n",
       "id                                                                            \n",
       "0      e          8.80         f           s         u                    f   \n",
       "1      p          4.51         x           h         o                    f   \n",
       "2      e          6.94         f           s         b                    f   \n",
       "3      e          3.88         f           y         g                    f   \n",
       "4      e          5.85         x           l         w                    f   \n",
       "\n",
       "   gill-attachment gill-spacing gill-color  stem-height  ...  stem-root  \\\n",
       "id                                                       ...              \n",
       "0                a            c          w         4.51  ...        NaN   \n",
       "1                a            c          n         4.79  ...        NaN   \n",
       "2                x            c          w         6.85  ...        NaN   \n",
       "3                s          NaN          g         4.16  ...        NaN   \n",
       "4                d          NaN          w         3.37  ...        NaN   \n",
       "\n",
       "   stem-surface stem-color veil-type veil-color has-ring ring-type  \\\n",
       "id                                                                   \n",
       "0           NaN          w       NaN        NaN        f         f   \n",
       "1             y          o       NaN        NaN        t         z   \n",
       "2             s          n       NaN        NaN        f         f   \n",
       "3           NaN          w       NaN        NaN        f         f   \n",
       "4           NaN          w       NaN        NaN        f         f   \n",
       "\n",
       "   spore-print-color habitat season  \n",
       "id                                   \n",
       "0                NaN       d      a  \n",
       "1                NaN       d      w  \n",
       "2                NaN       l      w  \n",
       "3                NaN       d      u  \n",
       "4                NaN       g      a  \n",
       "\n",
       "[5 rows x 21 columns]"
      ]
     },
     "execution_count": 12,
     "metadata": {},
     "output_type": "execute_result"
    }
   ],
   "source": [
    "df.head()"
   ]
  },
  {
   "cell_type": "markdown",
   "metadata": {},
   "source": [
    "**Finding any column which is present in the training data but not in the testing data/ vice-versa**"
   ]
  },
  {
   "cell_type": "code",
   "execution_count": 62,
   "metadata": {},
   "outputs": [
    {
     "name": "stdout",
     "output_type": "stream",
     "text": [
      "Columns in train but not in test: {'class'}\n",
      "Columns in test but not in train: {'id'}\n"
     ]
    }
   ],
   "source": [
    "# Get the list of columns from both datasets\n",
    "train_columns = set(df.columns)\n",
    "test_columns = set(df_test.columns)\n",
    "\n",
    "# Find columns in the train set but not in the test set\n",
    "missing_in_test = train_columns - test_columns\n",
    "\n",
    "# Find columns in the test set but not in the train set\n",
    "extra_in_test = test_columns - train_columns\n",
    "\n",
    "print(\"Columns in train but not in test:\", missing_in_test)\n",
    "print(\"Columns in test but not in train:\", extra_in_test)"
   ]
  },
  {
   "cell_type": "code",
   "execution_count": 63,
   "metadata": {},
   "outputs": [
    {
     "data": {
      "text/html": [
       "<div>\n",
       "<style scoped>\n",
       "    .dataframe tbody tr th:only-of-type {\n",
       "        vertical-align: middle;\n",
       "    }\n",
       "\n",
       "    .dataframe tbody tr th {\n",
       "        vertical-align: top;\n",
       "    }\n",
       "\n",
       "    .dataframe thead th {\n",
       "        text-align: right;\n",
       "    }\n",
       "</style>\n",
       "<table border=\"1\" class=\"dataframe\">\n",
       "  <thead>\n",
       "    <tr style=\"text-align: right;\">\n",
       "      <th></th>\n",
       "      <th>count</th>\n",
       "      <th>mean</th>\n",
       "      <th>std</th>\n",
       "      <th>min</th>\n",
       "      <th>25%</th>\n",
       "      <th>50%</th>\n",
       "      <th>75%</th>\n",
       "      <th>max</th>\n",
       "    </tr>\n",
       "  </thead>\n",
       "  <tbody>\n",
       "    <tr>\n",
       "      <th>cap-diameter</th>\n",
       "      <td>3116941.0</td>\n",
       "      <td>6.309848</td>\n",
       "      <td>4.657931</td>\n",
       "      <td>0.03</td>\n",
       "      <td>3.32</td>\n",
       "      <td>5.75</td>\n",
       "      <td>8.24</td>\n",
       "      <td>80.67</td>\n",
       "    </tr>\n",
       "    <tr>\n",
       "      <th>stem-height</th>\n",
       "      <td>3116945.0</td>\n",
       "      <td>6.348333</td>\n",
       "      <td>2.699755</td>\n",
       "      <td>0.00</td>\n",
       "      <td>4.67</td>\n",
       "      <td>5.88</td>\n",
       "      <td>7.41</td>\n",
       "      <td>88.72</td>\n",
       "    </tr>\n",
       "    <tr>\n",
       "      <th>stem-width</th>\n",
       "      <td>3116945.0</td>\n",
       "      <td>11.153785</td>\n",
       "      <td>8.095477</td>\n",
       "      <td>0.00</td>\n",
       "      <td>4.97</td>\n",
       "      <td>9.65</td>\n",
       "      <td>15.63</td>\n",
       "      <td>102.90</td>\n",
       "    </tr>\n",
       "  </tbody>\n",
       "</table>\n",
       "</div>"
      ],
      "text/plain": [
       "                  count       mean       std   min   25%   50%    75%     max\n",
       "cap-diameter  3116941.0   6.309848  4.657931  0.03  3.32  5.75   8.24   80.67\n",
       "stem-height   3116945.0   6.348333  2.699755  0.00  4.67  5.88   7.41   88.72\n",
       "stem-width    3116945.0  11.153785  8.095477  0.00  4.97  9.65  15.63  102.90"
      ]
     },
     "execution_count": 63,
     "metadata": {},
     "output_type": "execute_result"
    }
   ],
   "source": [
    "df.describe().T"
   ]
  },
  {
   "cell_type": "markdown",
   "metadata": {},
   "source": [
    "There are three numerical columns, that we have to deal with "
   ]
  },
  {
   "cell_type": "code",
   "execution_count": 64,
   "metadata": {},
   "outputs": [
    {
     "name": "stdout",
     "output_type": "stream",
     "text": [
      "<class 'pandas.core.frame.DataFrame'>\n",
      "Index: 3116945 entries, 0 to 3116944\n",
      "Data columns (total 21 columns):\n",
      " #   Column                Dtype  \n",
      "---  ------                -----  \n",
      " 0   class                 object \n",
      " 1   cap-diameter          float64\n",
      " 2   cap-shape             object \n",
      " 3   cap-surface           object \n",
      " 4   cap-color             object \n",
      " 5   does-bruise-or-bleed  object \n",
      " 6   gill-attachment       object \n",
      " 7   gill-spacing          object \n",
      " 8   gill-color            object \n",
      " 9   stem-height           float64\n",
      " 10  stem-width            float64\n",
      " 11  stem-root             object \n",
      " 12  stem-surface          object \n",
      " 13  stem-color            object \n",
      " 14  veil-type             object \n",
      " 15  veil-color            object \n",
      " 16  has-ring              object \n",
      " 17  ring-type             object \n",
      " 18  spore-print-color     object \n",
      " 19  habitat               object \n",
      " 20  season                object \n",
      "dtypes: float64(3), object(18)\n",
      "memory usage: 523.2+ MB\n"
     ]
    }
   ],
   "source": [
    "df.info()"
   ]
  },
  {
   "cell_type": "markdown",
   "metadata": {},
   "source": [
    "**Finding the null values**"
   ]
  },
  {
   "cell_type": "code",
   "execution_count": 65,
   "metadata": {},
   "outputs": [
    {
     "data": {
      "text/html": [
       "<div>\n",
       "<style scoped>\n",
       "    .dataframe tbody tr th:only-of-type {\n",
       "        vertical-align: middle;\n",
       "    }\n",
       "\n",
       "    .dataframe tbody tr th {\n",
       "        vertical-align: top;\n",
       "    }\n",
       "\n",
       "    .dataframe thead th {\n",
       "        text-align: right;\n",
       "    }\n",
       "</style>\n",
       "<table border=\"1\" class=\"dataframe\">\n",
       "  <thead>\n",
       "    <tr style=\"text-align: right;\">\n",
       "      <th></th>\n",
       "      <th>Missing Values</th>\n",
       "      <th>Percentage</th>\n",
       "    </tr>\n",
       "  </thead>\n",
       "  <tbody>\n",
       "    <tr>\n",
       "      <th>veil-type</th>\n",
       "      <td>2957493</td>\n",
       "      <td>94.884350</td>\n",
       "    </tr>\n",
       "    <tr>\n",
       "      <th>spore-print-color</th>\n",
       "      <td>2849682</td>\n",
       "      <td>91.425482</td>\n",
       "    </tr>\n",
       "    <tr>\n",
       "      <th>stem-root</th>\n",
       "      <td>2757023</td>\n",
       "      <td>88.452732</td>\n",
       "    </tr>\n",
       "    <tr>\n",
       "      <th>veil-color</th>\n",
       "      <td>2740947</td>\n",
       "      <td>87.936970</td>\n",
       "    </tr>\n",
       "    <tr>\n",
       "      <th>stem-surface</th>\n",
       "      <td>1980861</td>\n",
       "      <td>63.551362</td>\n",
       "    </tr>\n",
       "    <tr>\n",
       "      <th>gill-spacing</th>\n",
       "      <td>1258435</td>\n",
       "      <td>40.373988</td>\n",
       "    </tr>\n",
       "    <tr>\n",
       "      <th>cap-surface</th>\n",
       "      <td>671023</td>\n",
       "      <td>21.528227</td>\n",
       "    </tr>\n",
       "    <tr>\n",
       "      <th>gill-attachment</th>\n",
       "      <td>523936</td>\n",
       "      <td>16.809280</td>\n",
       "    </tr>\n",
       "    <tr>\n",
       "      <th>ring-type</th>\n",
       "      <td>128880</td>\n",
       "      <td>4.134818</td>\n",
       "    </tr>\n",
       "    <tr>\n",
       "      <th>gill-color</th>\n",
       "      <td>57</td>\n",
       "      <td>0.001829</td>\n",
       "    </tr>\n",
       "    <tr>\n",
       "      <th>habitat</th>\n",
       "      <td>45</td>\n",
       "      <td>0.001444</td>\n",
       "    </tr>\n",
       "    <tr>\n",
       "      <th>cap-shape</th>\n",
       "      <td>40</td>\n",
       "      <td>0.001283</td>\n",
       "    </tr>\n",
       "    <tr>\n",
       "      <th>stem-color</th>\n",
       "      <td>38</td>\n",
       "      <td>0.001219</td>\n",
       "    </tr>\n",
       "    <tr>\n",
       "      <th>has-ring</th>\n",
       "      <td>24</td>\n",
       "      <td>0.000770</td>\n",
       "    </tr>\n",
       "    <tr>\n",
       "      <th>cap-color</th>\n",
       "      <td>12</td>\n",
       "      <td>0.000385</td>\n",
       "    </tr>\n",
       "    <tr>\n",
       "      <th>does-bruise-or-bleed</th>\n",
       "      <td>8</td>\n",
       "      <td>0.000257</td>\n",
       "    </tr>\n",
       "    <tr>\n",
       "      <th>cap-diameter</th>\n",
       "      <td>4</td>\n",
       "      <td>0.000128</td>\n",
       "    </tr>\n",
       "  </tbody>\n",
       "</table>\n",
       "</div>"
      ],
      "text/plain": [
       "                      Missing Values  Percentage\n",
       "veil-type                    2957493   94.884350\n",
       "spore-print-color            2849682   91.425482\n",
       "stem-root                    2757023   88.452732\n",
       "veil-color                   2740947   87.936970\n",
       "stem-surface                 1980861   63.551362\n",
       "gill-spacing                 1258435   40.373988\n",
       "cap-surface                   671023   21.528227\n",
       "gill-attachment               523936   16.809280\n",
       "ring-type                     128880    4.134818\n",
       "gill-color                        57    0.001829\n",
       "habitat                           45    0.001444\n",
       "cap-shape                         40    0.001283\n",
       "stem-color                        38    0.001219\n",
       "has-ring                          24    0.000770\n",
       "cap-color                         12    0.000385\n",
       "does-bruise-or-bleed               8    0.000257\n",
       "cap-diameter                       4    0.000128"
      ]
     },
     "execution_count": 65,
     "metadata": {},
     "output_type": "execute_result"
    }
   ],
   "source": [
    "null = df.isnull().sum()\n",
    "null = null[null>0]\n",
    "missing_percent = (null/len(df))*100\n",
    "missing_info = pd.DataFrame({'Missing Values': null, 'Percentage': missing_percent})\n",
    "missing_info = missing_info.sort_values(by='Percentage', ascending=False)\n",
    "missing_info"
   ]
  },
  {
   "cell_type": "markdown",
   "metadata": {},
   "source": [
    "**Dropping the columns where more than 60% of the data is missing**"
   ]
  },
  {
   "cell_type": "code",
   "execution_count": 66,
   "metadata": {},
   "outputs": [
    {
     "name": "stdout",
     "output_type": "stream",
     "text": [
      "Index(['veil-type', 'spore-print-color', 'stem-root', 'veil-color',\n",
      "       'stem-surface'],\n",
      "      dtype='object')\n"
     ]
    }
   ],
   "source": [
    "columns_to_drop = missing_info[missing_info['Percentage'] > 60].index\n",
    "print(columns_to_drop)"
   ]
  },
  {
   "cell_type": "code",
   "execution_count": 67,
   "metadata": {},
   "outputs": [],
   "source": [
    "df = df.drop(columns=columns_to_drop)\n",
    "# dropping the columns from the testing datset too.\n",
    "df_test = df_test.drop(columns = columns_to_drop)"
   ]
  },
  {
   "cell_type": "markdown",
   "metadata": {},
   "source": [
    "# Imputing the missing data Categorical data first"
   ]
  },
  {
   "cell_type": "code",
   "execution_count": 68,
   "metadata": {},
   "outputs": [
    {
     "data": {
      "text/plain": [
       "array(['c', nan, 'd', 'f', 'x', 'b', 'a', '3.61', '2.69', 'k', '4.8', 'e',\n",
       "       'y', 'class', 's', '9.01', 'p', '3.92', '5.22', '6.67', '4.04',\n",
       "       't', '0.73', 'i', '3.57', '24.38', 'w', 'h', 'cap-surface', 'l',\n",
       "       '1', '12.27', '5.42', 'r', '1.6', 'n', 'g', '0', '3.81', '4.09',\n",
       "       '1.36', '3.24', '5.55', '5.7', '3.62', 'does f', '6.4', '1.88',\n",
       "       '55.13'], dtype=object)"
      ]
     },
     "execution_count": 68,
     "metadata": {},
     "output_type": "execute_result"
    }
   ],
   "source": [
    "df['gill-spacing'].unique()"
   ]
  },
  {
   "cell_type": "code",
   "execution_count": 69,
   "metadata": {},
   "outputs": [
    {
     "data": {
      "text/plain": [
       "gill-spacing\n",
       "c              1331054\n",
       "d               407932\n",
       "f               119380\n",
       "e                   24\n",
       "a                   17\n",
       "s                   16\n",
       "b                   12\n",
       "x                    8\n",
       "t                    8\n",
       "p                    7\n",
       "g                    4\n",
       "k                    4\n",
       "h                    3\n",
       "l                    3\n",
       "y                    2\n",
       "r                    2\n",
       "6.67                 2\n",
       "0                    2\n",
       "9.01                 1\n",
       "2.69                 1\n",
       "3.61                 1\n",
       "class                1\n",
       "4.8                  1\n",
       "4.04                 1\n",
       "3.57                 1\n",
       "i                    1\n",
       "w                    1\n",
       "24.38                1\n",
       "cap-surface          1\n",
       "0.73                 1\n",
       "5.22                 1\n",
       "3.92                 1\n",
       "5.42                 1\n",
       "12.27                1\n",
       "1                    1\n",
       "1.6                  1\n",
       "n                    1\n",
       "3.81                 1\n",
       "4.09                 1\n",
       "1.36                 1\n",
       "3.24                 1\n",
       "5.55                 1\n",
       "5.7                  1\n",
       "3.62                 1\n",
       "does f               1\n",
       "6.4                  1\n",
       "1.88                 1\n",
       "55.13                1\n",
       "Name: count, dtype: int64"
      ]
     },
     "execution_count": 69,
     "metadata": {},
     "output_type": "execute_result"
    }
   ],
   "source": [
    "df['gill-spacing'].value_counts()"
   ]
  },
  {
   "cell_type": "markdown",
   "metadata": {},
   "source": [
    "**But the categorical only should have alphabetical values.\n",
    "Thus, we will remove the other unwanted values and replace them with np.nan**"
   ]
  },
  {
   "cell_type": "code",
   "execution_count": 70,
   "metadata": {},
   "outputs": [],
   "source": [
    "def keep_chars_only(value):\n",
    "    if isinstance(value, str) and (len(value) == 1 and value.isalpha()):\n",
    "        return value\n",
    "    else:\n",
    "        return np.nan \n",
    "cat_cols = df.select_dtypes(include = 'object')\n",
    "for col in cat_cols.columns:\n",
    "    if col != 'class':\n",
    "        df[col] = df[col].apply(keep_chars_only)\n",
    "        df_test[col] = df_test[col].apply(keep_chars_only)"
   ]
  },
  {
   "cell_type": "code",
   "execution_count": 71,
   "metadata": {},
   "outputs": [
    {
     "data": {
      "text/plain": [
       "gill-spacing\n",
       "c    1331054\n",
       "d     407932\n",
       "f     119380\n",
       "e         24\n",
       "a         17\n",
       "s         16\n",
       "b         12\n",
       "x          8\n",
       "t          8\n",
       "p          7\n",
       "k          4\n",
       "g          4\n",
       "l          3\n",
       "h          3\n",
       "y          2\n",
       "r          2\n",
       "i          1\n",
       "w          1\n",
       "n          1\n",
       "Name: count, dtype: int64"
      ]
     },
     "execution_count": 71,
     "metadata": {},
     "output_type": "execute_result"
    }
   ],
   "source": [
    "df['gill-spacing'].value_counts()"
   ]
  },
  {
   "cell_type": "markdown",
   "metadata": {},
   "source": [
    "**Imputing the missing values, in the categorical columns with the mode(most frequent value)**"
   ]
  },
  {
   "cell_type": "code",
   "execution_count": 72,
   "metadata": {},
   "outputs": [],
   "source": [
    "cat_cols = df.select_dtypes(include = 'object')\n",
    "cat_cols = cat_cols.drop('class', axis = 1)\n",
    "for col in cat_cols.columns:\n",
    "    df[col] = df[col].fillna(df[col].mode()[0])\n",
    "    df_test[col] = df_test[col].fillna(df_test[col].mode()[0])"
   ]
  },
  {
   "cell_type": "code",
   "execution_count": 73,
   "metadata": {},
   "outputs": [
    {
     "name": "stdout",
     "output_type": "stream",
     "text": [
      "Testing data\n",
      "id                      0\n",
      "cap-diameter            7\n",
      "cap-shape               0\n",
      "cap-surface             0\n",
      "cap-color               0\n",
      "does-bruise-or-bleed    0\n",
      "gill-attachment         0\n",
      "gill-spacing            0\n",
      "gill-color              0\n",
      "stem-height             1\n",
      "stem-width              0\n",
      "stem-color              0\n",
      "has-ring                0\n",
      "ring-type               0\n",
      "habitat                 0\n",
      "season                  0\n",
      "dtype: int64\n",
      "___________________________\n",
      "Training data\n"
     ]
    },
    {
     "data": {
      "text/plain": [
       "class                   0\n",
       "cap-diameter            4\n",
       "cap-shape               0\n",
       "cap-surface             0\n",
       "cap-color               0\n",
       "does-bruise-or-bleed    0\n",
       "gill-attachment         0\n",
       "gill-spacing            0\n",
       "gill-color              0\n",
       "stem-height             0\n",
       "stem-width              0\n",
       "stem-color              0\n",
       "has-ring                0\n",
       "ring-type               0\n",
       "habitat                 0\n",
       "season                  0\n",
       "dtype: int64"
      ]
     },
     "execution_count": 73,
     "metadata": {},
     "output_type": "execute_result"
    }
   ],
   "source": [
    "print(\"Testing data\")\n",
    "print(df_test.isnull().sum())\n",
    "print(\"___________________________\")\n",
    "print(\"Training data\")\n",
    "df.isnull().sum()"
   ]
  },
  {
   "cell_type": "markdown",
   "metadata": {},
   "source": [
    "**Dealing with the missing numerical data**"
   ]
  },
  {
   "cell_type": "code",
   "execution_count": 74,
   "metadata": {},
   "outputs": [],
   "source": [
    "df['cap-diameter'] = df['cap-diameter'].fillna(df['cap-diameter'].mode()[0])\n",
    "df_test['cap-diameter'] = df_test['cap-diameter'].fillna(df_test['cap-diameter'].mode()[0])\n",
    "df['stem-height'] = df['stem-height'].fillna(df['stem-height'].mode()[0])\n",
    "df_test['stem-height'] = df_test['stem-height'].fillna(df_test['stem-height'].mode()[0])"
   ]
  },
  {
   "cell_type": "code",
   "execution_count": 75,
   "metadata": {},
   "outputs": [
    {
     "data": {
      "text/plain": [
       "class                   0\n",
       "cap-diameter            0\n",
       "cap-shape               0\n",
       "cap-surface             0\n",
       "cap-color               0\n",
       "does-bruise-or-bleed    0\n",
       "gill-attachment         0\n",
       "gill-spacing            0\n",
       "gill-color              0\n",
       "stem-height             0\n",
       "stem-width              0\n",
       "stem-color              0\n",
       "has-ring                0\n",
       "ring-type               0\n",
       "habitat                 0\n",
       "season                  0\n",
       "dtype: int64"
      ]
     },
     "execution_count": 75,
     "metadata": {},
     "output_type": "execute_result"
    }
   ],
   "source": [
    "df.isnull().sum()"
   ]
  },
  {
   "cell_type": "code",
   "execution_count": 76,
   "metadata": {},
   "outputs": [
    {
     "data": {
      "text/plain": [
       "id                      0\n",
       "cap-diameter            0\n",
       "cap-shape               0\n",
       "cap-surface             0\n",
       "cap-color               0\n",
       "does-bruise-or-bleed    0\n",
       "gill-attachment         0\n",
       "gill-spacing            0\n",
       "gill-color              0\n",
       "stem-height             0\n",
       "stem-width              0\n",
       "stem-color              0\n",
       "has-ring                0\n",
       "ring-type               0\n",
       "habitat                 0\n",
       "season                  0\n",
       "dtype: int64"
      ]
     },
     "execution_count": 76,
     "metadata": {},
     "output_type": "execute_result"
    }
   ],
   "source": [
    "df_test.isnull().sum()"
   ]
  },
  {
   "cell_type": "markdown",
   "metadata": {},
   "source": [
    "**Now that we've deal with the missing data,we move forward to encoding the categorical data**"
   ]
  },
  {
   "cell_type": "markdown",
   "metadata": {},
   "source": [
    "The CatBoostEncoder,  it requires the target variable (y in fit_transform) to be numeric."
   ]
  },
  {
   "cell_type": "code",
   "execution_count": 77,
   "metadata": {},
   "outputs": [
    {
     "name": "stderr",
     "output_type": "stream",
     "text": [
      "C:\\Users\\jessi\\AppData\\Local\\Temp\\ipykernel_9092\\922900989.py:1: FutureWarning: Downcasting behavior in `replace` is deprecated and will be removed in a future version. To retain the old behavior, explicitly call `result.infer_objects(copy=False)`. To opt-in to the future behavior, set `pd.set_option('future.no_silent_downcasting', True)`\n",
      "  df['class'] = df['class'].replace({\"p\": 1, \"e\": 0})\n"
     ]
    },
    {
     "data": {
      "text/plain": [
       "id\n",
       "0          0\n",
       "1          1\n",
       "2          0\n",
       "3          0\n",
       "4          0\n",
       "          ..\n",
       "3116940    0\n",
       "3116941    0\n",
       "3116942    1\n",
       "3116943    0\n",
       "3116944    1\n",
       "Name: class, Length: 3116945, dtype: int64"
      ]
     },
     "execution_count": 77,
     "metadata": {},
     "output_type": "execute_result"
    }
   ],
   "source": [
    "df['class'] = df['class'].replace({\"p\": 1, \"e\": 0})\n",
    "df['class']"
   ]
  },
  {
   "cell_type": "code",
   "execution_count": 79,
   "metadata": {},
   "outputs": [],
   "source": [
    "colss = df.select_dtypes(include=['object']).columns\n",
    "import category_encoders as ce\n",
    "encoder = ce.CatBoostEncoder(cols=colss)\n",
    "df[colss] = encoder.fit_transform(df[colss], df[\"class\"]) "
   ]
  },
  {
   "cell_type": "code",
   "execution_count": 80,
   "metadata": {},
   "outputs": [
    {
     "name": "stdout",
     "output_type": "stream",
     "text": [
      "<class 'pandas.core.frame.DataFrame'>\n",
      "Index: 3116945 entries, 0 to 3116944\n",
      "Data columns (total 16 columns):\n",
      " #   Column                Dtype  \n",
      "---  ------                -----  \n",
      " 0   class                 int64  \n",
      " 1   cap-diameter          float64\n",
      " 2   cap-shape             float64\n",
      " 3   cap-surface           float64\n",
      " 4   cap-color             float64\n",
      " 5   does-bruise-or-bleed  float64\n",
      " 6   gill-attachment       float64\n",
      " 7   gill-spacing          float64\n",
      " 8   gill-color            float64\n",
      " 9   stem-height           float64\n",
      " 10  stem-width            float64\n",
      " 11  stem-color            float64\n",
      " 12  has-ring              float64\n",
      " 13  ring-type             float64\n",
      " 14  habitat               float64\n",
      " 15  season                float64\n",
      "dtypes: float64(15), int64(1)\n",
      "memory usage: 404.3 MB\n"
     ]
    }
   ],
   "source": [
    "df.info()"
   ]
  },
  {
   "cell_type": "markdown",
   "metadata": {},
   "source": [
    "**Now the data is cleaned**"
   ]
  },
  {
   "cell_type": "code",
   "execution_count": 81,
   "metadata": {},
   "outputs": [],
   "source": [
    "X = df.drop(\"class\", axis=1)\n",
    "y = df[\"class\"]\n",
    "\n",
    "from sklearn.model_selection import train_test_split\n",
    "from sklearn.preprocessing import StandardScaler, MinMaxScaler\n",
    "from sklearn.decomposition import PCA\n",
    "\n",
    "scaler = MinMaxScaler()\n",
    "\n",
    "X_train,X_test,y_train,y_test = train_test_split(X,y,test_size = 0.55, random_state=0)\n",
    "\n",
    "# pca = PCA(n_components=4)\n",
    "# X_train, X_test = pca.fit_transform(X_train), pca.transform(X_test)\n",
    "X_train, X_test = scaler.fit_transform(X_train), scaler.transform(X_test)\n"
   ]
  },
  {
   "cell_type": "code",
   "execution_count": 85,
   "metadata": {},
   "outputs": [
    {
     "name": "stderr",
     "output_type": "stream",
     "text": [
      "[I 2024-08-29 06:57:44,604] A new study created in memory with name: no-name-6a2edeae-5998-47a8-b753-1b1493ae9398\n",
      "[I 2024-08-29 06:57:58,785] Trial 0 finished with value: 0.9897014559708806 and parameters: {'booster': 'gbtree', 'lambda': 0.4783362168515034, 'alpha': 0.004021315108423867, 'subsample': 0.7786327874041084, 'colsample_bytree': 0.8665960161129658, 'max_depth': 9, 'n_estimators': 457, 'learning_rate': 0.051908356279005585, 'min_child_weight': 5}. Best is trial 0 with value: 0.9897014559708806.\n",
      "[I 2024-08-29 06:58:18,480] Trial 1 finished with value: 0.7061546269074619 and parameters: {'booster': 'gblinear', 'lambda': 1.0277800804360114e-06, 'alpha': 1.2683216617975556e-08, 'subsample': 0.9361507806158429, 'colsample_bytree': 0.6113877188439919, 'max_depth': 5, 'n_estimators': 448, 'learning_rate': 0.0886089782920439, 'min_child_weight': 3}. Best is trial 0 with value: 0.9897014559708806.\n",
      "[I 2024-08-29 06:58:24,654] Trial 2 finished with value: 0.6155472723878855 and parameters: {'booster': 'gblinear', 'lambda': 0.00038319221372924846, 'alpha': 3.229449213871182e-08, 'subsample': 0.5165419142164575, 'colsample_bytree': 0.7190837244773898, 'max_depth': 7, 'n_estimators': 141, 'learning_rate': 0.027932721943154222, 'min_child_weight': 10}. Best is trial 0 with value: 0.9897014559708806.\n",
      "[I 2024-08-29 06:58:41,203] Trial 3 finished with value: 0.6256626534135984 and parameters: {'booster': 'gblinear', 'lambda': 0.0006214457608082081, 'alpha': 6.161589796836019e-05, 'subsample': 0.5328832495228178, 'colsample_bytree': 0.9237235077404258, 'max_depth': 4, 'n_estimators': 370, 'learning_rate': 0.016718046279092236, 'min_child_weight': 7}. Best is trial 0 with value: 0.9897014559708806.\n",
      "[I 2024-08-29 06:59:01,787] Trial 4 finished with value: 0.6839994866769331 and parameters: {'booster': 'gblinear', 'lambda': 0.0005267381756287969, 'alpha': 6.045464047200681e-06, 'subsample': 0.6529144876524662, 'colsample_bytree': 0.794762950647192, 'max_depth': 6, 'n_estimators': 483, 'learning_rate': 0.049532056444979676, 'min_child_weight': 6}. Best is trial 0 with value: 0.9897014559708806.\n",
      "[I 2024-08-29 06:59:16,097] Trial 5 finished with value: 0.9896302907275187 and parameters: {'booster': 'gbtree', 'lambda': 0.4892363833677116, 'alpha': 0.8996042558474346, 'subsample': 0.5172340304392455, 'colsample_bytree': 0.5886591664247326, 'max_depth': 8, 'n_estimators': 487, 'learning_rate': 0.07432716505305284, 'min_child_weight': 3}. Best is trial 0 with value: 0.9897014559708806.\n",
      "[I 2024-08-29 06:59:21,726] Trial 6 finished with value: 0.9797838209902469 and parameters: {'booster': 'gbtree', 'lambda': 0.00013328669750337373, 'alpha': 7.410434324954343e-05, 'subsample': 0.8524514662998091, 'colsample_bytree': 0.7301768001637436, 'max_depth': 5, 'n_estimators': 322, 'learning_rate': 0.04987932751359964, 'min_child_weight': 8}. Best is trial 0 with value: 0.9897014559708806.\n",
      "[I 2024-08-29 06:59:37,053] Trial 7 finished with value: 0.5470460590788184 and parameters: {'booster': 'gblinear', 'lambda': 0.06017333417670085, 'alpha': 2.2053476075058844e-06, 'subsample': 0.6174472311202435, 'colsample_bytree': 0.5130590495765608, 'max_depth': 3, 'n_estimators': 292, 'learning_rate': 0.02713340653296137, 'min_child_weight': 3}. Best is trial 0 with value: 0.9897014559708806.\n",
      "[I 2024-08-29 06:59:50,584] Trial 8 finished with value: 0.547031476037146 and parameters: {'booster': 'gblinear', 'lambda': 2.988401060094583e-07, 'alpha': 0.5186741555482807, 'subsample': 0.9859536298936642, 'colsample_bytree': 0.8092832273934745, 'max_depth': 9, 'n_estimators': 349, 'learning_rate': 0.03283413537591866, 'min_child_weight': 9}. Best is trial 0 with value: 0.9897014559708806.\n",
      "[I 2024-08-29 07:01:29,044] Trial 9 finished with value: 0.9874177516449671 and parameters: {'booster': 'dart', 'lambda': 5.919095625627769e-05, 'alpha': 2.1209314140779565e-07, 'subsample': 0.9990439868804444, 'colsample_bytree': 0.8417840449074726, 'max_depth': 5, 'n_estimators': 414, 'learning_rate': 0.09672517080416486, 'min_child_weight': 5}. Best is trial 0 with value: 0.9897014559708806.\n",
      "[I 2024-08-29 07:01:35,909] Trial 10 finished with value: 0.9886415605021233 and parameters: {'booster': 'gbtree', 'lambda': 0.03972429862741853, 'alpha': 0.006592533433329814, 'subsample': 0.7777442117594622, 'colsample_bytree': 0.9906271843010974, 'max_depth': 9, 'n_estimators': 185, 'learning_rate': 0.06493154111939058, 'min_child_weight': 1}. Best is trial 0 with value: 0.9897014559708806.\n",
      "[I 2024-08-29 07:01:47,996] Trial 11 finished with value: 0.9896833729992067 and parameters: {'booster': 'gbtree', 'lambda': 0.7731575447911765, 'alpha': 0.24701666420876517, 'subsample': 0.7281476509168785, 'colsample_bytree': 0.6418142255550122, 'max_depth': 8, 'n_estimators': 496, 'learning_rate': 0.0722183410602135, 'min_child_weight': 4}. Best is trial 0 with value: 0.9897014559708806.\n",
      "[I 2024-08-29 07:01:54,554] Trial 12 finished with value: 0.9888608894488777 and parameters: {'booster': 'gbtree', 'lambda': 0.7628508345474694, 'alpha': 0.010038957137661009, 'subsample': 0.7312552864226207, 'colsample_bytree': 0.6579431223911405, 'max_depth': 8, 'n_estimators': 231, 'learning_rate': 0.07434148210357198, 'min_child_weight': 5}. Best is trial 0 with value: 0.9897014559708806.\n",
      "[I 2024-08-29 07:02:05,188] Trial 13 finished with value: 0.9893193802790611 and parameters: {'booster': 'gbtree', 'lambda': 0.012864792601975348, 'alpha': 0.013700495839173528, 'subsample': 0.7870948582868901, 'colsample_bytree': 0.8902626641570389, 'max_depth': 8, 'n_estimators': 414, 'learning_rate': 0.059271718330425174, 'min_child_weight': 4}. Best is trial 0 with value: 0.9897014559708806.\n",
      "[I 2024-08-29 07:02:10,397] Trial 14 finished with value: 0.9609530309393812 and parameters: {'booster': 'dart', 'lambda': 0.008898760273707722, 'alpha': 0.0706969013341614, 'subsample': 0.6853543340564955, 'colsample_bytree': 0.6686476324827811, 'max_depth': 7, 'n_estimators': 59, 'learning_rate': 0.04191903120149872, 'min_child_weight': 1}. Best is trial 0 with value: 0.9897014559708806.\n",
      "[I 2024-08-29 07:02:23,985] Trial 15 finished with value: 0.9900514489710206 and parameters: {'booster': 'gbtree', 'lambda': 1.7095214210318354e-08, 'alpha': 0.000546122100717449, 'subsample': 0.8509960335129325, 'colsample_bytree': 0.5184077863693032, 'max_depth': 9, 'n_estimators': 495, 'learning_rate': 0.0797316425702096, 'min_child_weight': 6}. Best is trial 15 with value: 0.9900514489710206.\n",
      "[I 2024-08-29 07:02:34,907] Trial 16 finished with value: 0.9899394512109758 and parameters: {'booster': 'gbtree', 'lambda': 1.497381578376016e-08, 'alpha': 0.0010863257298467663, 'subsample': 0.875264228479808, 'colsample_bytree': 0.5186210810175566, 'max_depth': 9, 'n_estimators': 390, 'learning_rate': 0.08518485845876497, 'min_child_weight': 7}. Best is trial 15 with value: 0.9900514489710206.\n",
      "[I 2024-08-29 07:02:43,232] Trial 17 finished with value: 0.9891706332540016 and parameters: {'booster': 'gbtree', 'lambda': 1.866189359370466e-08, 'alpha': 0.000550907981854447, 'subsample': 0.8668887442551508, 'colsample_bytree': 0.5127408313069629, 'max_depth': 7, 'n_estimators': 395, 'learning_rate': 0.08626768704858577, 'min_child_weight': 7}. Best is trial 15 with value: 0.9900514489710206.\n",
      "[I 2024-08-29 07:03:37,366] Trial 18 finished with value: 0.9896355406225209 and parameters: {'booster': 'dart', 'lambda': 1.6160467129875837e-08, 'alpha': 0.0006596556572811408, 'subsample': 0.8704481918250582, 'colsample_bytree': 0.5581448795441755, 'max_depth': 9, 'n_estimators': 269, 'learning_rate': 0.08381643858117116, 'min_child_weight': 7}. Best is trial 15 with value: 0.9900514489710206.\n",
      "[I 2024-08-29 07:03:45,026] Trial 19 finished with value: 0.9889034719305614 and parameters: {'booster': 'gbtree', 'lambda': 3.2556209053885777e-07, 'alpha': 1.3914277965480627e-05, 'subsample': 0.9263673199841866, 'colsample_bytree': 0.5565944505311471, 'max_depth': 6, 'n_estimators': 437, 'learning_rate': 0.0998324702673794, 'min_child_weight': 9}. Best is trial 15 with value: 0.9900514489710206.\n",
      "[I 2024-08-29 07:03:55,373] Trial 20 finished with value: 0.9898414531709366 and parameters: {'booster': 'gbtree', 'lambda': 7.80640489732081e-06, 'alpha': 0.0006839501962165439, 'subsample': 0.8434506054704277, 'colsample_bytree': 0.5086374305054673, 'max_depth': 9, 'n_estimators': 360, 'learning_rate': 0.0795613444014036, 'min_child_weight': 6}. Best is trial 15 with value: 0.9900514489710206.\n",
      "[I 2024-08-29 07:04:05,535] Trial 21 finished with value: 0.9898712025759485 and parameters: {'booster': 'gbtree', 'lambda': 5.0418623936894994e-06, 'alpha': 0.0007759919854276802, 'subsample': 0.8231856826993735, 'colsample_bytree': 0.5197623464935687, 'max_depth': 9, 'n_estimators': 352, 'learning_rate': 0.08187718938970068, 'min_child_weight': 6}. Best is trial 15 with value: 0.9900514489710206.\n",
      "[I 2024-08-29 07:04:13,433] Trial 22 finished with value: 0.9895608754491577 and parameters: {'booster': 'gbtree', 'lambda': 7.362063691239326e-08, 'alpha': 0.001215063617878839, 'subsample': 0.9178179356528373, 'colsample_bytree': 0.5677976607196876, 'max_depth': 8, 'n_estimators': 316, 'learning_rate': 0.09125971247519805, 'min_child_weight': 8}. Best is trial 15 with value: 0.9900514489710206.\n",
      "[I 2024-08-29 07:04:24,631] Trial 23 finished with value: 0.9898992020159597 and parameters: {'booster': 'gbtree', 'lambda': 4.96154518696229e-06, 'alpha': 0.00012456553453527665, 'subsample': 0.8308169942998981, 'colsample_bytree': 0.5010238759805878, 'max_depth': 9, 'n_estimators': 387, 'learning_rate': 0.06266883427097064, 'min_child_weight': 6}. Best is trial 15 with value: 0.9900514489710206.\n",
      "[I 2024-08-29 07:04:34,651] Trial 24 finished with value: 0.9894488776891129 and parameters: {'booster': 'gbtree', 'lambda': 1.304859529427689e-07, 'alpha': 0.0001498862058391378, 'subsample': 0.8120898547933392, 'colsample_bytree': 0.6119648850886594, 'max_depth': 8, 'n_estimators': 420, 'learning_rate': 0.06459537651645904, 'min_child_weight': 8}. Best is trial 15 with value: 0.9900514489710206.\n",
      "[I 2024-08-29 07:06:03,514] Trial 25 finished with value: 0.9887873909188483 and parameters: {'booster': 'dart', 'lambda': 1.013766162206111e-08, 'alpha': 1.613504017518229e-05, 'subsample': 0.8938775690313638, 'colsample_bytree': 0.5482672034005462, 'max_depth': 7, 'n_estimators': 386, 'learning_rate': 0.06746852332644307, 'min_child_weight': 7}. Best is trial 15 with value: 0.9900514489710206.\n",
      "[I 2024-08-29 07:06:11,116] Trial 26 finished with value: 0.9891706332540016 and parameters: {'booster': 'gbtree', 'lambda': 2.921995772551225e-06, 'alpha': 0.054525408288012084, 'subsample': 0.9512872750698904, 'colsample_bytree': 0.6794641859274686, 'max_depth': 9, 'n_estimators': 245, 'learning_rate': 0.058152713341856954, 'min_child_weight': 4}. Best is trial 15 with value: 0.9900514489710206.\n",
      "[I 2024-08-29 07:06:19,383] Trial 27 finished with value: 0.9889297214055719 and parameters: {'booster': 'gbtree', 'lambda': 2.3434851178407013e-05, 'alpha': 0.0001503996352369604, 'subsample': 0.8893828612123721, 'colsample_bytree': 0.6007564893065509, 'max_depth': 6, 'n_estimators': 463, 'learning_rate': 0.09237363769760641, 'min_child_weight': 6}. Best is trial 15 with value: 0.9900514489710206.\n",
      "[I 2024-08-29 07:06:27,318] Trial 28 finished with value: 0.9894418778291101 and parameters: {'booster': 'gbtree', 'lambda': 6.084293514085958e-08, 'alpha': 1.6409857895630724e-06, 'subsample': 0.8014623597826452, 'colsample_bytree': 0.5413342611878829, 'max_depth': 8, 'n_estimators': 317, 'learning_rate': 0.0782011943766334, 'min_child_weight': 9}. Best is trial 15 with value: 0.9900514489710206.\n",
      "[I 2024-08-29 07:06:39,349] Trial 29 finished with value: 0.9898846189742871 and parameters: {'booster': 'gbtree', 'lambda': 8.993009919756058e-07, 'alpha': 0.0014839175699143357, 'subsample': 0.7651015979951106, 'colsample_bytree': 0.6345562552415047, 'max_depth': 9, 'n_estimators': 443, 'learning_rate': 0.07034651197609965, 'min_child_weight': 5}. Best is trial 15 with value: 0.9900514489710206.\n"
     ]
    },
    {
     "name": "stdout",
     "output_type": "stream",
     "text": [
      "Best trial:\n",
      "  Value: 0.9900514489710206\n",
      "  Params: \n",
      "    booster: gbtree\n",
      "    lambda: 1.7095214210318354e-08\n",
      "    alpha: 0.000546122100717449\n",
      "    subsample: 0.8509960335129325\n",
      "    colsample_bytree: 0.5184077863693032\n",
      "    max_depth: 9\n",
      "    n_estimators: 495\n",
      "    learning_rate: 0.0797316425702096\n",
      "    min_child_weight: 6\n"
     ]
    },
    {
     "name": "stderr",
     "output_type": "stream",
     "text": [
      "c:\\Users\\jessi\\AppData\\Local\\Programs\\Python\\Python312\\Lib\\site-packages\\xgboost\\core.py:158: UserWarning: [07:06:39] WARNING: C:\\buildkite-agent\\builds\\buildkite-windows-cpu-autoscaling-group-i-0015a694724fa8361-1\\xgboost\\xgboost-ci-windows\\src\\common\\error_msg.cc:27: The tree method `gpu_hist` is deprecated since 2.0.0. To use GPU training, set the `device` parameter to CUDA instead.\n",
      "\n",
      "    E.g. tree_method = \"hist\", device = \"cuda\"\n",
      "\n",
      "  warnings.warn(smsg, UserWarning)\n",
      "c:\\Users\\jessi\\AppData\\Local\\Programs\\Python\\Python312\\Lib\\site-packages\\xgboost\\core.py:158: UserWarning: [07:06:51] WARNING: C:\\buildkite-agent\\builds\\buildkite-windows-cpu-autoscaling-group-i-0015a694724fa8361-1\\xgboost\\xgboost-ci-windows\\src\\common\\error_msg.cc:27: The tree method `gpu_hist` is deprecated since 2.0.0. To use GPU training, set the `device` parameter to CUDA instead.\n",
      "\n",
      "    E.g. tree_method = \"hist\", device = \"cuda\"\n",
      "\n",
      "  warnings.warn(smsg, UserWarning)\n"
     ]
    },
    {
     "name": "stdout",
     "output_type": "stream",
     "text": [
      "Final Model Accuracy: 0.9900514489710206\n"
     ]
    }
   ],
   "source": [
    "import optuna\n",
    "import xgboost as xgb\n",
    "from sklearn.model_selection import train_test_split\n",
    "from sklearn.datasets import load_breast_cancer\n",
    "from sklearn.metrics import accuracy_score\n",
    "\n",
    "# Define the objective function\n",
    "def objective(trial):\n",
    "    # Define hyperparameters to be tuned\n",
    "    param = {\n",
    "        'verbosity': 0,\n",
    "        'objective': 'binary:logistic',\n",
    "        'eval_metric': 'logloss',\n",
    "        'use_label_encoder': False,\n",
    "        'booster': trial.suggest_categorical('booster', ['gbtree', 'gblinear', 'dart']),\n",
    "        'lambda': trial.suggest_float('lambda', 1e-8, 1.0, log=True),\n",
    "        'alpha': trial.suggest_float('alpha', 1e-8, 1.0, log=True),\n",
    "        'subsample': trial.suggest_float('subsample', 0.5, 1.0),\n",
    "        'colsample_bytree': trial.suggest_float('colsample_bytree', 0.5, 1.0),\n",
    "        'max_depth': trial.suggest_int('max_depth', 3, 9),\n",
    "        'n_estimators': trial.suggest_int('n_estimators', 50, 500),\n",
    "        'learning_rate': trial.suggest_float('learning_rate', 0.01, 0.1),\n",
    "        'min_child_weight': trial.suggest_int('min_child_weight', 1, 10),\n",
    "    }\n",
    "    \n",
    "    # Train the model\n",
    "    model = xgb.XGBClassifier(**param, tree_method=\"gpu_hist\")\n",
    "    model.fit(X_train, y_train)\n",
    "        # Predict and calculate accuracy\n",
    "    preds = model.predict(X_test)\n",
    "    accuracy = accuracy_score(y_test, preds)\n",
    "    \n",
    "    return accuracy\n",
    "\n",
    "# Create a study object\n",
    "study = optuna.create_study(direction='maximize')\n",
    "\n",
    "# Optimize the objective function\n",
    "study.optimize(objective, n_trials=30)\n",
    "\n",
    "# Print the best trial\n",
    "print(\"Best trial:\")\n",
    "trial = study.best_trial\n",
    "print(f\"  Value: {trial.value}\")\n",
    "print(\"  Params: \")\n",
    "for key, value in trial.params.items():\n",
    "    print(f\"    {key}: {value}\")\n",
    "# Train the final model with the best parameters\n",
    "best_params = study.best_params\n",
    "best_model = xgb.XGBClassifier(**best_params, tree_method=\"gpu_hist\")\n",
    "best_model.fit(X_train, y_train)\n",
    "\n",
    "# Predict on the test set and calculate accuracy\n",
    "final_preds = best_model.predict(X_test)\n",
    "final_accuracy = accuracy_score(y_test, final_preds)\n",
    "\n",
    "print(f\"Final Model Accuracy: {final_accuracy}\")"
   ]
  },
  {
   "cell_type": "code",
   "execution_count": null,
   "metadata": {},
   "outputs": [],
   "source": []
  }
 ],
 "metadata": {
  "kernelspec": {
   "display_name": "islp",
   "language": "python",
   "name": "python3"
  },
  "language_info": {
   "codemirror_mode": {
    "name": "ipython",
    "version": 3
   },
   "file_extension": ".py",
   "mimetype": "text/x-python",
   "name": "python",
   "nbconvert_exporter": "python",
   "pygments_lexer": "ipython3",
   "version": "3.12.5"
  }
 },
 "nbformat": 4,
 "nbformat_minor": 2
}
